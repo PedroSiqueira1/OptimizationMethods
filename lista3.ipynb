{
 "cells": [
  {
   "cell_type": "code",
   "execution_count": 23,
   "metadata": {},
   "outputs": [],
   "source": [
    "import pandas as pd"
   ]
  },
  {
   "cell_type": "code",
   "execution_count": 24,
   "metadata": {},
   "outputs": [],
   "source": [
    "def himmelblau(x):\n",
    "    return (x[0]**2 + x[1] - 11)**2 + (x[0] + x[1]**2 - 7)**2\n",
    "\n",
    "def rosenbrock(x, n):\n",
    "    return sum(100*(x[i+1] - x[i]**2)**2 + (1 - x[i])**2 for i in range(n-1))"
   ]
  },
  {
   "cell_type": "code",
   "execution_count": 25,
   "metadata": {},
   "outputs": [],
   "source": [
    "def grad_himmelblau(x):\n",
    "    return [4*x[0]**3+4*x[0]*x[1]-42*x[0]+2*x[1]**2-14,\n",
    "            4*x[1]**3+4*x[0]*x[1]-26*x[1]+2*x[0]**2-2]\n",
    "\n",
    "def first_grad_rosenbrock(x):\n",
    "    return 400*x[0]**3 + 2*x[0] - 400*x[1]*x[0] - 2\n",
    "\n",
    "def last_grad_rosenbrock(x):\n",
    "    return 200*x[-1] - 200*x[-2]**2\n",
    "\n",
    "def middle_grad_rosenbrock(x,i):\n",
    "    return 400*x[i]**3 + 202*x[i] - 400*x[i+1]*x[i] - 200*x[i-1]**2 - 2\n",
    "\n",
    "def grad_rosenbrock(x,n):\n",
    "    \n",
    "    grad = []\n",
    "\n",
    "    if n == 1:\n",
    "        return IndexError \n",
    "    if n == 2:\n",
    "        grad.append(first_grad_rosenbrock(x))\n",
    "        grad.append(last_grad_rosenbrock(x))\n",
    "        return grad\n",
    "    else:\n",
    "        grad.append(first_grad_rosenbrock(x))\n",
    "        \n",
    "        for i in range(1,n-1):\n",
    "            grad.append(middle_grad_rosenbrock(x,i))  \n",
    "\n",
    "        grad.append(last_grad_rosenbrock(x))\n",
    "    \n",
    "    return grad"
   ]
  },
  {
   "cell_type": "code",
   "execution_count": 22,
   "metadata": {},
   "outputs": [
    {
     "data": {
      "text/plain": [
       "[-400, 1002, 5804, -1000]"
      ]
     },
     "execution_count": 22,
     "metadata": {},
     "output_type": "execute_result"
    }
   ],
   "source": [
    "grad_rosenbrock([1,2,3,4], 4)"
   ]
  }
 ],
 "metadata": {
  "kernelspec": {
   "display_name": "Geral",
   "language": "python",
   "name": "python3"
  },
  "language_info": {
   "codemirror_mode": {
    "name": "ipython",
    "version": 3
   },
   "file_extension": ".py",
   "mimetype": "text/x-python",
   "name": "python",
   "nbconvert_exporter": "python",
   "pygments_lexer": "ipython3",
   "version": "3.6.13"
  }
 },
 "nbformat": 4,
 "nbformat_minor": 2
}
